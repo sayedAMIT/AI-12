{
  "nbformat": 4,
  "nbformat_minor": 0,
  "metadata": {
    "colab": {
      "provenance": []
    },
    "kernelspec": {
      "name": "python3",
      "display_name": "Python 3"
    },
    "language_info": {
      "name": "python"
    }
  },
  "cells": [
    {
      "cell_type": "code",
      "execution_count": 1,
      "metadata": {
        "id": "1_ndnOTSop7E"
      },
      "outputs": [],
      "source": [
        "import nltk"
      ]
    },
    {
      "cell_type": "code",
      "source": [
        "nltk.download('twitter_samples')"
      ],
      "metadata": {
        "colab": {
          "base_uri": "https://localhost:8080/"
        },
        "id": "qdtU2ejep5zg",
        "outputId": "f57feb80-2fac-4a98-f0ec-034064918b3f"
      },
      "execution_count": 2,
      "outputs": [
        {
          "output_type": "stream",
          "name": "stderr",
          "text": [
            "[nltk_data] Downloading package twitter_samples to /root/nltk_data...\n",
            "[nltk_data]   Unzipping corpora/twitter_samples.zip.\n"
          ]
        },
        {
          "output_type": "execute_result",
          "data": {
            "text/plain": [
              "True"
            ]
          },
          "metadata": {},
          "execution_count": 2
        }
      ]
    },
    {
      "cell_type": "code",
      "source": [
        "from nltk.corpus import twitter_samples"
      ],
      "metadata": {
        "id": "-x9uVWSSp-Gl"
      },
      "execution_count": 3,
      "outputs": []
    },
    {
      "cell_type": "code",
      "source": [
        "positive_tweets=twitter_samples.strings('positive_tweets.json')\n",
        "negative_tweets=twitter_samples.strings('negative_tweets.json')"
      ],
      "metadata": {
        "id": "BKR_At29qF51"
      },
      "execution_count": 4,
      "outputs": []
    },
    {
      "cell_type": "code",
      "source": [
        "positive_tweets[0]"
      ],
      "metadata": {
        "colab": {
          "base_uri": "https://localhost:8080/",
          "height": 35
        },
        "id": "cBL7b33QrVWE",
        "outputId": "8ddcdb43-c7f0-43f5-d222-5c086e0ab560"
      },
      "execution_count": 5,
      "outputs": [
        {
          "output_type": "execute_result",
          "data": {
            "text/plain": [
              "'#FollowFriday @France_Inte @PKuchly57 @Milipol_Paris for being top engaged members in my community this week :)'"
            ],
            "application/vnd.google.colaboratory.intrinsic+json": {
              "type": "string"
            }
          },
          "metadata": {},
          "execution_count": 5
        }
      ]
    },
    {
      "cell_type": "code",
      "source": [
        "import re"
      ],
      "metadata": {
        "id": "B2fsm7lFrW_-"
      },
      "execution_count": 6,
      "outputs": []
    },
    {
      "cell_type": "code",
      "source": [
        "print(re.search(\"com\",\"www.microsoft.com\"))"
      ],
      "metadata": {
        "colab": {
          "base_uri": "https://localhost:8080/"
        },
        "id": "EoeAnIgZutd7",
        "outputId": "9ce3f482-602d-40f9-a9ba-3a43ee8b99a4"
      },
      "execution_count": 7,
      "outputs": [
        {
          "output_type": "stream",
          "name": "stdout",
          "text": [
            "<re.Match object; span=(14, 17), match='com'>\n"
          ]
        }
      ]
    },
    {
      "cell_type": "code",
      "source": [
        "phone=\"1533-6678-87533  #this is mu number\"\n",
        "\n",
        "num=re.sub(r'#\\w+',\"\",phone)\n",
        "print(num)\n",
        "num2=re.sub(r'\\D+',\"\",phone)\n",
        "print(num2)"
      ],
      "metadata": {
        "colab": {
          "base_uri": "https://localhost:8080/"
        },
        "id": "_09qYQJ8u046",
        "outputId": "0c9f7fd3-a210-4d36-b57d-4a7f1691e297"
      },
      "execution_count": 8,
      "outputs": [
        {
          "output_type": "stream",
          "name": "stdout",
          "text": [
            "1533-6678-87533   is mu number\n",
            "1533667887533\n"
          ]
        }
      ]
    },
    {
      "cell_type": "code",
      "source": [
        "text=\"tommorow is 2023/22/25 ,today is 2023/22/24\"\n",
        "num=re.findall(r'\\d+',text)\n",
        "print(num)"
      ],
      "metadata": {
        "colab": {
          "base_uri": "https://localhost:8080/"
        },
        "id": "J4RNcO3TvcQm",
        "outputId": "3b034607-cf7a-4aee-c316-ed0e46680526"
      },
      "execution_count": 9,
      "outputs": [
        {
          "output_type": "stream",
          "name": "stdout",
          "text": [
            "['2023', '22', '25', '2023', '22', '24']\n"
          ]
        }
      ]
    },
    {
      "cell_type": "code",
      "source": [
        "print(re.findall(r'\\d+/\\d+/\\d+',text))"
      ],
      "metadata": {
        "colab": {
          "base_uri": "https://localhost:8080/"
        },
        "id": "Ovdeo4FDxlov",
        "outputId": "c4784c30-5156-4e37-c0b9-6898160e91ca"
      },
      "execution_count": 10,
      "outputs": [
        {
          "output_type": "stream",
          "name": "stdout",
          "text": [
            "['2023/22/25', '2023/22/24']\n"
          ]
        }
      ]
    },
    {
      "cell_type": "code",
      "source": [
        "print(re.findall(r'[0-9]{1,2}',text))"
      ],
      "metadata": {
        "colab": {
          "base_uri": "https://localhost:8080/"
        },
        "id": "vfqr0jcQx9-U",
        "outputId": "2172ef49-f348-49a9-8af8-6135d3e0358d"
      },
      "execution_count": 11,
      "outputs": [
        {
          "output_type": "stream",
          "name": "stdout",
          "text": [
            "['20', '23', '22', '25', '20', '23', '22', '24']\n"
          ]
        }
      ]
    },
    {
      "cell_type": "code",
      "source": [
        "#[0-9] -->\\d  \n",
        "#\\w -->[a-zA-Z0-9_]\n",
        "text=\"tommorow is 2023/22/25 ,today_ is 2023/22/24\"\n",
        "num=re.findall(r'\\w+',text)\n",
        "print(num)"
      ],
      "metadata": {
        "colab": {
          "base_uri": "https://localhost:8080/"
        },
        "id": "doUICY8RyI_C",
        "outputId": "3537943b-16b5-4165-c34b-768d3045678d"
      },
      "execution_count": 12,
      "outputs": [
        {
          "output_type": "stream",
          "name": "stdout",
          "text": [
            "['tommorow', 'is', '2023', '22', '25', 'today_', 'is', '2023', '22', '24']\n"
          ]
        }
      ]
    },
    {
      "cell_type": "code",
      "source": [
        "#[0-9] -->\\d  \n",
        "#\\w -->[a-zA-Z0-9_]\n",
        "text=\"tommorow is 2023/22/25 ,today_ is 2023/22/24\"\n",
        "num=re.findall(r'\\S+',text)\n",
        "print(num)"
      ],
      "metadata": {
        "colab": {
          "base_uri": "https://localhost:8080/"
        },
        "id": "WxRErRnwyyNv",
        "outputId": "6754ff29-fa38-4dbe-b1f5-82405df8efeb"
      },
      "execution_count": 13,
      "outputs": [
        {
          "output_type": "stream",
          "name": "stdout",
          "text": [
            "['tommorow', 'is', '2023/22/25', ',today_', 'is', '2023/22/24']\n"
          ]
        }
      ]
    },
    {
      "cell_type": "code",
      "source": [
        "pos=positive_tweets[0]\n",
        "pos"
      ],
      "metadata": {
        "colab": {
          "base_uri": "https://localhost:8080/",
          "height": 35
        },
        "id": "pwV4jF5hy8mg",
        "outputId": "f9911adb-dfb0-493f-aee9-cca06a1ed62d"
      },
      "execution_count": 14,
      "outputs": [
        {
          "output_type": "execute_result",
          "data": {
            "text/plain": [
              "'#FollowFriday @France_Inte @PKuchly57 @Milipol_Paris for being top engaged members in my community this week :)'"
            ],
            "application/vnd.google.colaboratory.intrinsic+json": {
              "type": "string"
            }
          },
          "metadata": {},
          "execution_count": 14
        }
      ]
    },
    {
      "cell_type": "code",
      "source": [
        "pos=re.sub(r\"(#|@)\\w+\",\"\",pos)\n",
        "pos=re.sub(r'\\d',\"\",pos)\n",
        "pos=re.sub(r'(^\\s+)',\"\",pos)\n",
        "pos=re.sub(r'(\\s+$)',\"\",pos)\n",
        "pos"
      ],
      "metadata": {
        "colab": {
          "base_uri": "https://localhost:8080/",
          "height": 35
        },
        "id": "5aGj_omNzEkM",
        "outputId": "5bbbf25f-9022-45e8-e2de-6fb208e60893"
      },
      "execution_count": 15,
      "outputs": [
        {
          "output_type": "execute_result",
          "data": {
            "text/plain": [
              "'for being top engaged members in my community this week :)'"
            ],
            "application/vnd.google.colaboratory.intrinsic+json": {
              "type": "string"
            }
          },
          "metadata": {},
          "execution_count": 15
        }
      ]
    },
    {
      "cell_type": "code",
      "source": [
        "from nltk.tokenize import TweetTokenizer\n",
        "tokenizer=TweetTokenizer()\n",
        "token=tokenizer.tokenize(pos)\n",
        "print(token)"
      ],
      "metadata": {
        "colab": {
          "base_uri": "https://localhost:8080/"
        },
        "id": "piG23kDu1Vuw",
        "outputId": "49e22838-b06e-4281-ca26-ab6310f624f0"
      },
      "execution_count": 16,
      "outputs": [
        {
          "output_type": "stream",
          "name": "stdout",
          "text": [
            "['for', 'being', 'top', 'engaged', 'members', 'in', 'my', 'community', 'this', 'week', ':)']\n"
          ]
        }
      ]
    },
    {
      "cell_type": "code",
      "source": [
        "import nltk \n",
        "nltk.download('stopwords')\n"
      ],
      "metadata": {
        "colab": {
          "base_uri": "https://localhost:8080/"
        },
        "id": "EZX-qYNK2dAc",
        "outputId": "0755a7c4-ed4f-477d-ee10-3a55b6f4598f"
      },
      "execution_count": 17,
      "outputs": [
        {
          "output_type": "stream",
          "name": "stderr",
          "text": [
            "[nltk_data] Downloading package stopwords to /root/nltk_data...\n",
            "[nltk_data]   Unzipping corpora/stopwords.zip.\n"
          ]
        },
        {
          "output_type": "execute_result",
          "data": {
            "text/plain": [
              "True"
            ]
          },
          "metadata": {},
          "execution_count": 17
        }
      ]
    },
    {
      "cell_type": "code",
      "source": [
        "from nltk.corpus import stopwords\n",
        "s_words=stopwords.words('english')\n",
        "print(s_words)"
      ],
      "metadata": {
        "colab": {
          "base_uri": "https://localhost:8080/"
        },
        "id": "iP0EPFhP2m-x",
        "outputId": "5790ef15-2a6d-4a20-bf82-20ff9f0877c1"
      },
      "execution_count": 18,
      "outputs": [
        {
          "output_type": "stream",
          "name": "stdout",
          "text": [
            "['i', 'me', 'my', 'myself', 'we', 'our', 'ours', 'ourselves', 'you', \"you're\", \"you've\", \"you'll\", \"you'd\", 'your', 'yours', 'yourself', 'yourselves', 'he', 'him', 'his', 'himself', 'she', \"she's\", 'her', 'hers', 'herself', 'it', \"it's\", 'its', 'itself', 'they', 'them', 'their', 'theirs', 'themselves', 'what', 'which', 'who', 'whom', 'this', 'that', \"that'll\", 'these', 'those', 'am', 'is', 'are', 'was', 'were', 'be', 'been', 'being', 'have', 'has', 'had', 'having', 'do', 'does', 'did', 'doing', 'a', 'an', 'the', 'and', 'but', 'if', 'or', 'because', 'as', 'until', 'while', 'of', 'at', 'by', 'for', 'with', 'about', 'against', 'between', 'into', 'through', 'during', 'before', 'after', 'above', 'below', 'to', 'from', 'up', 'down', 'in', 'out', 'on', 'off', 'over', 'under', 'again', 'further', 'then', 'once', 'here', 'there', 'when', 'where', 'why', 'how', 'all', 'any', 'both', 'each', 'few', 'more', 'most', 'other', 'some', 'such', 'no', 'nor', 'not', 'only', 'own', 'same', 'so', 'than', 'too', 'very', 's', 't', 'can', 'will', 'just', 'don', \"don't\", 'should', \"should've\", 'now', 'd', 'll', 'm', 'o', 're', 've', 'y', 'ain', 'aren', \"aren't\", 'couldn', \"couldn't\", 'didn', \"didn't\", 'doesn', \"doesn't\", 'hadn', \"hadn't\", 'hasn', \"hasn't\", 'haven', \"haven't\", 'isn', \"isn't\", 'ma', 'mightn', \"mightn't\", 'mustn', \"mustn't\", 'needn', \"needn't\", 'shan', \"shan't\", 'shouldn', \"shouldn't\", 'wasn', \"wasn't\", 'weren', \"weren't\", 'won', \"won't\", 'wouldn', \"wouldn't\"]\n"
          ]
        }
      ]
    },
    {
      "cell_type": "code",
      "source": [
        "import string\n",
        "punc=string.punctuation\n",
        "\n"
      ],
      "metadata": {
        "id": "9pwZlYvb22qp"
      },
      "execution_count": 19,
      "outputs": []
    },
    {
      "cell_type": "code",
      "source": [
        "from nltk.stem import PorterStemmer\n",
        "ps=PorterStemmer()\n",
        "tweet_clean=[]\n",
        "for word in token:\n",
        "    word=word.lower()\n",
        "    if word not in s_words and  word not in punc:\n",
        "        word=ps.stem(word)\n",
        "        tweet_clean.append(word)"
      ],
      "metadata": {
        "id": "ZDG-7_r922o-"
      },
      "execution_count": 20,
      "outputs": []
    },
    {
      "cell_type": "code",
      "source": [
        "tweet_clean"
      ],
      "metadata": {
        "colab": {
          "base_uri": "https://localhost:8080/"
        },
        "id": "wp-ckRT54Phh",
        "outputId": "c5e8a26d-295d-4d00-cba6-2f6a800da296"
      },
      "execution_count": 21,
      "outputs": [
        {
          "output_type": "execute_result",
          "data": {
            "text/plain": [
              "['top', 'engag', 'member', 'commun', 'week', ':)']"
            ]
          },
          "metadata": {},
          "execution_count": 21
        }
      ]
    },
    {
      "cell_type": "code",
      "source": [
        "def cleanText(text):\n",
        "    text=re.sub(r'(#|@)[a-zA-Z0-9|_]+','',text) # remove hashtage ,@userName\n",
        "    text=re.sub(r'RT[\\s]+',' ',text) #removing retweets\n",
        "    text=re.sub(r'https?:\\/\\/\\S+',' ',text) #removing hyperlinks\n",
        "    text=re.sub(r'\\d',' ',text) #removing special characters\n",
        "    text=re.sub(r'(^\\s+)','',text)  # removing space in front text \n",
        "    text=re.sub(r'(\\s+$)','',text) # removing space in tail text \n",
        "    return text\n",
        "\n"
      ],
      "metadata": {
        "id": "e73FPoDf6V37"
      },
      "execution_count": 22,
      "outputs": []
    },
    {
      "cell_type": "code",
      "source": [
        "def process_sentance(sentances):\n",
        "    result=[]\n",
        "    #Stemming\n",
        "    ps = PorterStemmer()\n",
        "    for sentance in sentances:\n",
        "        # Clean sentance\n",
        "        sentance=cleanText(sentance)\n",
        "        #tokenization\n",
        "        sentance=sentance.split()\n",
        "        #Remove Stopwords,speicial char\n",
        "        sentance=[token for token in sentance if len(token) > 2  and token.lower() not in s_words and  token not in punc ]\n",
        "\n",
        "        sentance=[ps.stem(word.lower()) for word in  sentance]\n",
        "        result.append(sentance)\n",
        "    return result"
      ],
      "metadata": {
        "id": "dINiTf2S6dJ_"
      },
      "execution_count": 25,
      "outputs": []
    },
    {
      "cell_type": "code",
      "source": [
        "positive_tweets=process_sentance(positive_tweets)\n",
        "negative_tweets=process_sentance(negative_tweets)"
      ],
      "metadata": {
        "id": "wsac-b8g7qle"
      },
      "execution_count": 26,
      "outputs": []
    },
    {
      "cell_type": "code",
      "source": [
        "positive_tweets[0]"
      ],
      "metadata": {
        "colab": {
          "base_uri": "https://localhost:8080/"
        },
        "id": "ovf_09rJ7qZ9",
        "outputId": "46304634-8a61-4c44-bedc-cb48f1b811ea"
      },
      "execution_count": 27,
      "outputs": [
        {
          "output_type": "execute_result",
          "data": {
            "text/plain": [
              "['top', 'engag', 'member', 'commun', 'week']"
            ]
          },
          "metadata": {},
          "execution_count": 27
        }
      ]
    },
    {
      "cell_type": "code",
      "source": [
        "[1,sum(pos)],sum(neg)]"
      ],
      "metadata": {
        "id": "kTpw04Czgdwg"
      },
      "execution_count": null,
      "outputs": []
    },
    {
      "cell_type": "code",
      "source": [
        "negative_tweets[0]"
      ],
      "metadata": {
        "colab": {
          "base_uri": "https://localhost:8080/"
        },
        "id": "YBDifLMi7w9g",
        "outputId": "ee950577-e41f-4230-f8c8-0d9c5bc6912c"
      },
      "execution_count": null,
      "outputs": [
        {
          "output_type": "execute_result",
          "data": {
            "text/plain": [
              "['hopeless', 'tmr']"
            ]
          },
          "metadata": {},
          "execution_count": 55
        }
      ]
    },
    {
      "cell_type": "code",
      "source": [
        "for i in range(0,10):\n",
        "    print(positive_tweets[i])"
      ],
      "metadata": {
        "colab": {
          "base_uri": "https://localhost:8080/"
        },
        "id": "hEhn3s5s8V6K",
        "outputId": "c05c96b3-830c-4d2d-a179-302ec7b8b8a0"
      },
      "execution_count": 28,
      "outputs": [
        {
          "output_type": "stream",
          "name": "stdout",
          "text": [
            "['top', 'engag', 'member', 'commun', 'week']\n",
            "['hey', 'james!', 'odd', 'pleas', 'call', 'contact', 'centr', 'abl', 'assist', 'mani', 'thanks!']\n",
            "['listen', 'last', 'night', 'bleed', 'amaz', 'track.', 'scotland?!']\n",
            "['congrat']\n",
            "['yeaaaah', 'yippppy!!!', 'accnt', 'verifi', 'rqst', 'succeed', 'got', 'blue', 'tick', 'mark', 'profil', 'day']\n",
            "['one', 'irresist']\n",
            "['like', 'keep', 'love', 'custom', 'wait', 'long!', 'hope', 'enjoy!', 'happi', 'friday!', 'lwwf']\n",
            "['second', 'thought,', 'there’', 'enough', 'time', 'new', 'short', 'enter', 'system.', 'sheep', 'must', 'buying.']\n",
            "['jgh', 'bayan', 'bye']\n",
            "['act', 'mischievousness,', 'call', 'etl', 'layer', 'in-hous', 'wareh', 'app', 'katamari.', 'well…', 'name', 'impli', ':p.']\n"
          ]
        }
      ]
    },
    {
      "cell_type": "code",
      "source": [
        "print(\"Positive length : \",len(positive_tweets))\n",
        "print(\"Negative Length : \",len(negative_tweets))"
      ],
      "metadata": {
        "id": "GAEKSqdZ8css",
        "outputId": "9c78f622-790a-4a3d-b6be-1d917dfc0825",
        "colab": {
          "base_uri": "https://localhost:8080/"
        }
      },
      "execution_count": 29,
      "outputs": [
        {
          "output_type": "stream",
          "name": "stdout",
          "text": [
            "Positive length :  5000\n",
            "Negative Length :  5000\n"
          ]
        }
      ]
    },
    {
      "cell_type": "code",
      "source": [
        "tweets=[]\n",
        "labels=[]\n",
        "for i in range(len(positive_tweets)):\n",
        "    tweets.append(positive_tweets[i])\n",
        "    tweets.append(negative_tweets[i])\n",
        "\n",
        "    labels.append(1)\n",
        "    labels.append(0)\n",
        "\n",
        "print(len(tweets))\n",
        "print(len(labels))"
      ],
      "metadata": {
        "colab": {
          "base_uri": "https://localhost:8080/"
        },
        "id": "GcDDSpzTg8cX",
        "outputId": "2edfb423-8f13-4662-b645-a66681f3fd2d"
      },
      "execution_count": 31,
      "outputs": [
        {
          "output_type": "stream",
          "name": "stdout",
          "text": [
            "10000\n",
            "10000\n"
          ]
        }
      ]
    },
    {
      "cell_type": "code",
      "source": [
        "def build_freq(tweets,labels):\n",
        "    freq={}\n",
        "    for i in range(len(tweets)):\n",
        "\n",
        "        for word in tweets[i]:\n",
        "            \n",
        "            if word not in  freq.keys():\n",
        "                if labels[i]==1:\n",
        "                    freq[word]=[1,0]#[pos,neg]\n",
        "                else:\n",
        "                    freq[word]=[0,1] #[pos,neg]\n",
        "            else:\n",
        "                if labels[i]==1:\n",
        "                    freq[word][0]+=1\n",
        "                else:\n",
        "                    freq[word][1]+=1\n",
        "\n",
        "    return freq"
      ],
      "metadata": {
        "id": "Rks59qi6f3xI"
      },
      "execution_count": 32,
      "outputs": []
    },
    {
      "cell_type": "code",
      "source": [
        "freq_dict=build_freq(tweets,labels)"
      ],
      "metadata": {
        "id": "_AFDC7kpjnPO"
      },
      "execution_count": 33,
      "outputs": []
    },
    {
      "cell_type": "code",
      "source": [
        "freq_dict"
      ],
      "metadata": {
        "colab": {
          "base_uri": "https://localhost:8080/"
        },
        "id": "V0APDURXj0CI",
        "outputId": "cd492f7f-9337-485a-bc30-183933f3a30b"
      },
      "execution_count": 34,
      "outputs": [
        {
          "output_type": "execute_result",
          "data": {
            "text/plain": [
              "{'top': [30, 6],\n",
              " 'engag': [7, 0],\n",
              " 'member': [15, 4],\n",
              " 'commun': [31, 2],\n",
              " 'week': [76, 49],\n",
              " 'hopeless': [0, 2],\n",
              " 'tmr': [1, 3],\n",
              " 'hey': [61, 18],\n",
              " 'james!': [3, 0],\n",
              " 'odd': [2, 3],\n",
              " 'pleas': [81, 257],\n",
              " 'call': [36, 27],\n",
              " 'contact': [7, 7],\n",
              " 'centr': [2, 1],\n",
              " 'abl': [8, 23],\n",
              " 'assist': [1, 0],\n",
              " 'mani': [29, 29],\n",
              " 'thanks!': [19, 1],\n",
              " 'everyth': [12, 13],\n",
              " 'kid': [13, 13],\n",
              " 'section': [3, 3],\n",
              " 'ikea': [0, 1],\n",
              " 'cute.': [1, 1],\n",
              " 'shame': [1, 15],\n",
              " \"i'm\": [181, 339],\n",
              " 'nearli': [3, 3],\n",
              " 'month': [9, 17],\n",
              " 'listen': [16, 18],\n",
              " 'last': [46, 72],\n",
              " 'night': [51, 40],\n",
              " 'bleed': [2, 1],\n",
              " 'amaz': [41, 11],\n",
              " 'track.': [1, 0],\n",
              " 'scotland?!': [1, 0],\n",
              " 'heart': [10, 24],\n",
              " 'slide': [0, 1],\n",
              " 'wast': [2, 5],\n",
              " 'basket.': [1, 1],\n",
              " 'congrat': [19, 1],\n",
              " 'hate': [13, 57],\n",
              " 'japanes': [2, 3],\n",
              " '\"bani\"': [0, 2],\n",
              " ':(”': [0, 3],\n",
              " 'yeaaaah': [1, 0],\n",
              " 'yippppy!!!': [1, 0],\n",
              " 'accnt': [1, 0],\n",
              " 'verifi': [2, 0],\n",
              " 'rqst': [1, 0],\n",
              " 'succeed': [1, 0],\n",
              " 'got': [67, 100],\n",
              " 'blue': [9, 5],\n",
              " 'tick': [1, 0],\n",
              " 'mark': [1, 2],\n",
              " 'profil': [2, 1],\n",
              " 'day': [199, 129],\n",
              " 'dang': [1, 2],\n",
              " 'start': [58, 42],\n",
              " 'next': [45, 39],\n",
              " '\"work\"': [0, 1],\n",
              " 'one': [118, 137],\n",
              " 'irresist': [2, 0],\n",
              " 'god,': [0, 1],\n",
              " \"babies'\": [0, 1],\n",
              " 'face': [11, 19],\n",
              " 'like': [226, 215],\n",
              " 'keep': [64, 34],\n",
              " 'love': [381, 142],\n",
              " 'custom': [2, 1],\n",
              " 'wait': [63, 41],\n",
              " 'long!': [1, 1],\n",
              " 'hope': [139, 97],\n",
              " 'enjoy!': [5, 0],\n",
              " 'happi': [194, 24],\n",
              " 'friday!': [12, 1],\n",
              " 'lwwf': [1, 0],\n",
              " 'make': [99, 102],\n",
              " 'smile': [46, 8],\n",
              " ':((': [0, 279],\n",
              " 'second': [10, 5],\n",
              " 'thought,': [1, 0],\n",
              " 'there’': [2, 0],\n",
              " 'enough': [12, 20],\n",
              " 'time': [112, 143],\n",
              " 'new': [145, 51],\n",
              " 'short': [6, 9],\n",
              " 'enter': [8, 1],\n",
              " 'system.': [1, 1],\n",
              " 'sheep': [1, 1],\n",
              " 'must': [18, 15],\n",
              " 'buying.': [1, 0],\n",
              " 'work': [97, 113],\n",
              " 'neighbour': [0, 1],\n",
              " 'motors.': [0, 1],\n",
              " 'ask': [35, 29],\n",
              " 'said': [13, 31],\n",
              " 'updat': [12, 8],\n",
              " 'search': [0, 3],\n",
              " 'jgh': [3, 2],\n",
              " 'bayan': [1, 0],\n",
              " 'bye': [8, 7],\n",
              " 'why?:(\":': [0, 1],\n",
              " 'sialan:(': [0, 1],\n",
              " 'act': [7, 4],\n",
              " 'mischievousness,': [1, 0],\n",
              " 'etl': [1, 0],\n",
              " 'layer': [1, 0],\n",
              " 'in-hous': [1, 0],\n",
              " 'wareh': [1, 0],\n",
              " 'app': [12, 10],\n",
              " 'katamari.': [1, 0],\n",
              " 'well…': [1, 0],\n",
              " 'name': [15, 14],\n",
              " 'impli': [1, 0],\n",
              " ':p.': [1, 0],\n",
              " 'athabasca': [0, 1],\n",
              " 'glacier': [0, 1],\n",
              " ':-(': [0, 431],\n",
              " 'influenc': [18, 1],\n",
              " 'realli': [74, 127],\n",
              " 'good': [222, 89],\n",
              " 'm&amp;g': [2, 2],\n",
              " 'idea': [18, 9],\n",
              " 'never': [37, 57],\n",
              " 'go': [63, 87],\n",
              " 'meet': [33, 31],\n",
              " ':(((': [0, 167],\n",
              " 'big....juicy....selfi': [3, 0],\n",
              " 'mare': [0, 1],\n",
              " 'ivan': [0, 1],\n",
              " 'follow': [422, 228],\n",
              " '&amp;': [167, 95],\n",
              " 'back': [148, 107],\n",
              " 'trip,': [0, 1],\n",
              " 'safe.': [0, 1],\n",
              " 'see': [178, 122],\n",
              " 'soon': [27, 32],\n",
              " 'perfect,': [2, 0],\n",
              " 'alreadi': [24, 46],\n",
              " 'know': [143, 121],\n",
              " \"what'\": [17, 15],\n",
              " 'tire': [4, 46],\n",
              " 'hahahah': [0, 3],\n",
              " 'great': [153, 18],\n",
              " 'opportun': [23, 1],\n",
              " 'junior': [2, 0],\n",
              " 'triathlet': [1, 0],\n",
              " 'age': [2, 8],\n",
              " 'gatorad': [1, 0],\n",
              " 'series!': [1, 0],\n",
              " 'get': [207, 233],\n",
              " 'entri': [4, 4],\n",
              " 'knee': [3, 2],\n",
              " 'replac': [0, 4],\n",
              " 'day.': [5, 3],\n",
              " 'ouch.': [0, 2],\n",
              " 'lay': [4, 2],\n",
              " 'greet': [5, 4],\n",
              " 'card': [6, 7],\n",
              " 'rang': [3, 4],\n",
              " 'print': [2, 0],\n",
              " 'today': [70, 85],\n",
              " 'job': [33, 9],\n",
              " ':-)': [632, 0],\n",
              " 'relat': [4, 2],\n",
              " '\"sweet': [0, 1],\n",
              " 'sour\"': [0, 1],\n",
              " 'kind': [21, 11],\n",
              " '\"bi-polar\"': [0, 1],\n",
              " 'peopl': [46, 71],\n",
              " 'life...': [0, 2],\n",
              " 'cuz': [4, 4],\n",
              " 'full': [19, 16],\n",
              " 'them...': [0, 2],\n",
              " \"friend'\": [3, 0],\n",
              " 'lunch...': [1, 0],\n",
              " 'yummmm': [1, 0],\n",
              " 'pleass': [5, 2],\n",
              " 'conflict': [1, 0],\n",
              " 'thank': [597, 50],\n",
              " 'help': [35, 47],\n",
              " \"here'\": [25, 0],\n",
              " 'screenshot': [3, 4],\n",
              " 'sure': [53, 27],\n",
              " 'tho': [8, 21],\n",
              " 'liv': [2, 0],\n",
              " ':))': [119, 0],\n",
              " 'feel': [45, 151],\n",
              " 'stupid': [7, 8],\n",
              " \"can't\": [42, 175],\n",
              " 'seem': [8, 15],\n",
              " 'grasp': [0, 1],\n",
              " 'basic': [4, 2],\n",
              " 'digit': [0, 8],\n",
              " 'paint': [2, 3],\n",
              " 'noth': [13, 22],\n",
              " \"i'v\": [35, 74],\n",
              " 'research': [1, 1],\n",
              " 'hello': [56, 6],\n",
              " 'need': [76, 106],\n",
              " 'someth': [25, 26],\n",
              " 'twitter??': [1, 0],\n",
              " 'thing': [57, 42],\n",
              " 'lord.': [0, 1],\n",
              " 'lone': [0, 9],\n",
              " 'someon': [33, 55],\n",
              " 'talk': [42, 36],\n",
              " 'guy': [37, 55],\n",
              " 'girl': [30, 22],\n",
              " 'heard': [9, 6],\n",
              " 'four': [5, 4],\n",
              " 'season': [8, 7],\n",
              " 'pretti': [18, 14],\n",
              " 'dope.': [1, 0],\n",
              " 'penthouse,': [1, 0],\n",
              " 'obv': [1, 0],\n",
              " 'fun': [39, 21],\n",
              " \"y'all\": [3, 2],\n",
              " 'assignment,': [0, 1],\n",
              " 'project.': [1, 1],\n",
              " 'really?': [1, 4],\n",
              " 'yeah': [34, 32],\n",
              " 'suppos': [6, 7],\n",
              " 'lol!': [7, 1],\n",
              " 'chat': [10, 4],\n",
              " 'bit': [19, 15],\n",
              " 'want': [98, 244],\n",
              " 'play': [45, 42],\n",
              " 'video': [28, 18],\n",
              " 'games/watch': [0, 1],\n",
              " 'movi': [22, 23],\n",
              " 'youth': [19, 0],\n",
              " '&gt;&gt;': [26, 0],\n",
              " 'choreograph': [0, 1],\n",
              " 'hard': [12, 30],\n",
              " '💅🏽💋': [1, 0],\n",
              " ':))))': [20, 0],\n",
              " 'seen': [8, 23],\n",
              " 'year': [34, 33],\n",
              " 'email': [24, 9],\n",
              " 'link?': [0, 2],\n",
              " 'still': [47, 120],\n",
              " 'say': [56, 60],\n",
              " 'longer': [2, 9],\n",
              " 'avail': [11, 8],\n",
              " 'you!': [53, 11],\n",
              " 'cri': [6, 38],\n",
              " 'miss': [25, 299],\n",
              " 'mingm': [0, 1],\n",
              " 'much': [71, 90],\n",
              " 'rest': [10, 20],\n",
              " 'goe': [7, 3],\n",
              " 'quickly...': [1, 0],\n",
              " 'bed...': [1, 0],\n",
              " 'music': [15, 15],\n",
              " 'fix': [7, 9],\n",
              " 'dream': [13, 21],\n",
              " 'sorri': [18, 132],\n",
              " 'spiritu': [1, 0],\n",
              " 'ritual': [1, 0],\n",
              " 'festiv': [4, 1],\n",
              " '(népal)': [1, 0],\n",
              " 'begin': [4, 2],\n",
              " 'line-up': [4, 0],\n",
              " 'left': [10, 23],\n",
              " '(y)': [7, 0],\n",
              " 'at:...': [1, 0],\n",
              " 'mom': [8, 9],\n",
              " 'far': [13, 16],\n",
              " 'away': [6, 25],\n",
              " 'sarah!': [1, 0],\n",
              " 'send': [23, 11],\n",
              " 'bitsy.com': [1, 0],\n",
              " \"we'll\": [20, 8],\n",
              " 'asap': [3, 1],\n",
              " \"we'r\": [29, 29],\n",
              " 'truli': [3, 5],\n",
              " 'safe': [3, 3],\n",
              " 'flight.': [0, 1],\n",
              " 'lols.': [1, 0],\n",
              " 'friend': [48, 33],\n",
              " 'kik': [10, 34],\n",
              " 'hatessuc': [1, 0],\n",
              " 'happen': [12, 41],\n",
              " 'sad': [5, 105],\n",
              " 'come': [66, 89],\n",
              " 'hous': [4, 13],\n",
              " ':)))))': [14, 0],\n",
              " 'oh.': [1, 2],\n",
              " 'dog': [6, 15],\n",
              " 'pee’d': [0, 1],\n",
              " 'bag.': [0, 2],\n",
              " 'can’t': [0, 3],\n",
              " 'take': [41, 49],\n",
              " 'effect': [3, 4],\n",
              " 'press': [1, 1],\n",
              " 'releas': [8, 7],\n",
              " 'distribut': [1, 0],\n",
              " 'results!': [2, 0],\n",
              " '[link': [1, 0],\n",
              " 'removed]': [1, 0],\n",
              " 'doushit': [0, 1],\n",
              " 'bam': [44, 1],\n",
              " 'bestfriend': [49, 5],\n",
              " 'lot': [83, 25],\n",
              " 'warsaw': [44, 0],\n",
              " '&lt;': [132, 23],\n",
              " 'late': [13, 22],\n",
              " 'everyon': [41, 24],\n",
              " 'watch': [47, 74],\n",
              " 'documentari': [1, 0],\n",
              " 'earthl': [2, 0],\n",
              " 'youtub': [9, 4],\n",
              " 'suck': [8, 18],\n",
              " 'sick': [4, 38],\n",
              " 'plan': [21, 15],\n",
              " 'first': [46, 26],\n",
              " 'gundam': [0, 1],\n",
              " 'nope.': [1, 1],\n",
              " '$$$$': [0, 1],\n",
              " 'dollar': [0, 1],\n",
              " '😭😭😭😭😭😭': [0, 1],\n",
              " 'support': [23, 23],\n",
              " 'old': [11, 16],\n",
              " 'show': [22, 25],\n",
              " 'know,': [3, 4],\n",
              " 'weird).': [0, 1],\n",
              " 'leaving:': [0, 1],\n",
              " 'might': [25, 10],\n",
              " 'give': [48, 35],\n",
              " 'up.': [5, 3],\n",
              " 'pale': [0, 2],\n",
              " 'imit': [0, 1],\n",
              " 'buuuuuuuut': [1, 0],\n",
              " 'well': [58, 46],\n",
              " 'went': [12, 30],\n",
              " 'sea': [1, 1],\n",
              " 'massiv': [1, 4],\n",
              " 'fuck': [23, 52],\n",
              " 'rash': [0, 1],\n",
              " 'bodi': [12, 12],\n",
              " 'pain': [8, 17],\n",
              " 'ever': [21, 29],\n",
              " 'home': [26, 50],\n",
              " 'look': [132, 96],\n",
              " 'forward': [29, 6],\n",
              " 'visit': [28, 9],\n",
              " 'hi.': [2, 2],\n",
              " 'absent?': [0, 1],\n",
              " 'better': [49, 32],\n",
              " 'anyon': [11, 16],\n",
              " 'kpop': [1, 2],\n",
              " 'flesh': [1, 0],\n",
              " 'gran': [1, 2],\n",
              " '!!!': [7, 11],\n",
              " 'knew': [7, 6],\n",
              " 'care': [10, 18],\n",
              " 'tell': [25, 26],\n",
              " 'you,': [25, 11],\n",
              " 'girl!!': [2, 1],\n",
              " 'best': [55, 20],\n",
              " 'wish': [35, 89],\n",
              " 'cute': [18, 42],\n",
              " 'would': [84, 70],\n",
              " 'sequel': [0, 1],\n",
              " 'reason': [13, 8],\n",
              " 'epic': [2, 2],\n",
              " 'soundtrack.': [1, 0],\n",
              " 'busi': [15, 27],\n",
              " 'school': [9, 30],\n",
              " 'yah!': [0, 1],\n",
              " 'shout': [10, 0],\n",
              " 'out.': [7, 5],\n",
              " 'friday': [81, 9],\n",
              " 'ouucchhh': [0, 1],\n",
              " 'wisdom': [0, 2],\n",
              " 'teeth': [1, 6],\n",
              " 'ad': [11, 1],\n",
              " 'playlist': [5, 2],\n",
              " 'twitch': [6, 0],\n",
              " 'leagu': [6, 1],\n",
              " 'frighten': [0, 1],\n",
              " 'case.': [2, 1],\n",
              " 'dear': [13, 7],\n",
              " 'pret': [0, 1],\n",
              " 'wkwkw\":': [0, 1],\n",
              " 'verfi': [0, 1],\n",
              " 'active,': [0, 1],\n",
              " 'forget': [15, 8],\n",
              " 'member.': [0, 1],\n",
              " 'join.': [0, 1],\n",
              " 'goodbye\"': [0, 1],\n",
              " 'oh,': [7, 3],\n",
              " 'okay': [31, 25],\n",
              " 'you´v': [0, 1],\n",
              " 'chain': [1, 1],\n",
              " ':´(': [0, 1],\n",
              " 'sentir-s': [0, 1],\n",
              " 'incompleta': [0, 1],\n",
              " 'fake': [2, 4],\n",
              " 'gameplay': [2, 0],\n",
              " 'haha': [37, 24],\n",
              " 'kidding,': [1, 2],\n",
              " 'kidding.': [1, 1],\n",
              " 'stuff': [12, 10],\n",
              " ':).': [18, 0],\n",
              " 'okay..': [0, 2],\n",
              " 'but..': [0, 2],\n",
              " 'exactli': [4, 2],\n",
              " 'wednesday': [1, 4],\n",
              " 'product': [9, 3],\n",
              " 'line': [6, 7],\n",
              " 'shop': [12, 8],\n",
              " 'now!': [11, 4],\n",
              " 'check': [51, 19],\n",
              " 'marvel': [1, 1],\n",
              " 'not.': [1, 4],\n",
              " 'thwart': [0, 1],\n",
              " 'vacat': [4, 2],\n",
              " 'great!': [10, 1],\n",
              " 'awh': [1, 3],\n",
              " 'chanc': [3, 14],\n",
              " 'zante?': [0, 1],\n",
              " 'recharg': [1, 0],\n",
              " 'normal': [6, 5],\n",
              " 'charger': [2, 1],\n",
              " 'buy': [11, 16],\n",
              " \"when'\": [1, 1],\n",
              " 'birthday': [61, 21],\n",
              " 'worst': [2, 14],\n",
              " 'part': [14, 10],\n",
              " 'bad': [18, 59],\n",
              " 'asleep': [9, 24],\n",
              " 'sooo': [3, 8],\n",
              " 'text': [17, 14],\n",
              " 'audraesar:': [0, 1],\n",
              " 'sushi': [1, 3],\n",
              " 'pic': [20, 13],\n",
              " 'drive': [9, 15],\n",
              " 'craaaazzyy': [0, 2],\n",
              " 'yes,': [17, 8],\n",
              " 'suppose.': [1, 0],\n",
              " 'bet': [4, 10],\n",
              " \"he'll\": [4, 1],\n",
              " 'fit': [3, 3],\n",
              " 'hear': [27, 33],\n",
              " 'speech': [1, 0],\n",
              " 'today.': [14, 7],\n",
              " 'piti': [3, 1],\n",
              " 'green': [2, 7],\n",
              " 'gardens,': [1, 0],\n",
              " 'midnight': [1, 2],\n",
              " 'sun,': [1, 0],\n",
              " 'beauti': [44, 10],\n",
              " 'canal': [1, 0],\n",
              " 'dasvidaniya': [1, 0],\n",
              " 'till': [18, 8],\n",
              " 'visit.:)': [1, 0],\n",
              " 'pop': [5, 3],\n",
              " 'helium': [0, 1],\n",
              " 'balloon..': [0, 1],\n",
              " 'scout': [1, 0],\n",
              " 'futur': [10, 2],\n",
              " 'wlan': [1, 0],\n",
              " 'pro': [5, 1],\n",
              " 'confer': [1, 2],\n",
              " 'asia?': [1, 0],\n",
              " \"california'\": [0, 1],\n",
              " 'power': [7, 6],\n",
              " 'influenti': [0, 1],\n",
              " 'air': [7, 3],\n",
              " 'pollut': [0, 1],\n",
              " 'watchdog.:': [0, 1],\n",
              " 'califor...': [0, 1],\n",
              " 'chang': [22, 27],\n",
              " 'lollipop': [1, 0],\n",
              " 'elhaida': [0, 1],\n",
              " 'rob': [1, 2],\n",
              " 'juri': [0, 1],\n",
              " 'came': [6, 16],\n",
              " 'televot': [0, 1],\n",
              " 'nez': [1, 0],\n",
              " 'idaho': [0, 1],\n",
              " 'restrict': [1, 2],\n",
              " 'fish': [3, 2],\n",
              " 'despit': [2, 2],\n",
              " 'region': [1, 2],\n",
              " 'drought-link': [0, 1],\n",
              " 'die-of...': [0, 1],\n",
              " 'big': [29, 20],\n",
              " 'abrupt': [0, 1],\n",
              " 'climat': [0, 1],\n",
              " 'may': [22, 16],\n",
              " 'doom': [0, 2],\n",
              " 'mammoth': [0, 1],\n",
              " 'megafauna,': [0, 1],\n",
              " 'sc...': [0, 1],\n",
              " 'oley': [1, 0],\n",
              " \"australia'\": [0, 1],\n",
              " \"'dirtiest'\": [0, 1],\n",
              " 'station': [3, 3],\n",
              " 'consid': [2, 5],\n",
              " \"'clean\": [0, 1],\n",
              " \"energy'\": [0, 1],\n",
              " 'biomass': [0, 1],\n",
              " '...': [31, 29],\n",
              " 'mama': [1, 1],\n",
              " 'stand': [6, 6],\n",
              " 'stronger': [1, 0],\n",
              " ':)\"': [16, 0],\n",
              " \"ain't\": [5, 5],\n",
              " 'easi': [9, 5],\n",
              " 'golf': [0, 1],\n",
              " 'cours': [10, 6],\n",
              " 'california.:': [0, 1],\n",
              " 'ulti...': [0, 1],\n",
              " 'mine': [13, 11],\n",
              " 'god': [19, 12],\n",
              " 'misty,': [1, 0],\n",
              " 'babi': [16, 42],\n",
              " 'cute!!!': [1, 0],\n",
              " 'gonna': [21, 51],\n",
              " 'sexi': [7, 2],\n",
              " 'prexi': [0, 1],\n",
              " ':(((((((((': [0, 4],\n",
              " 'kindergarten': [0, 1],\n",
              " 'woohoo!': [2, 0],\n",
              " 'sign': [11, 7],\n",
              " 'yet,': [3, 0],\n",
              " 'think': [68, 70],\n",
              " 'it?': [7, 8],\n",
              " 'mka': [5, 0],\n",
              " 'hungri': [1, 18],\n",
              " 'liam': [7, 1],\n",
              " 'access': [2, 2],\n",
              " 'cant': [15, 46],\n",
              " 'find': [24, 52],\n",
              " 'book': [21, 18],\n",
              " 'sane': [0, 1],\n",
              " 'welcom': [53, 4],\n",
              " 'liter': [7, 15],\n",
              " 'three': [10, 7],\n",
              " 'loung': [1, 1],\n",
              " 'event': [8, 4],\n",
              " 'turn': [16, 17],\n",
              " 'stat': [60, 0],\n",
              " 'arrived.': [60, 0],\n",
              " 'unfollow': [63, 10],\n",
              " 'via': [84, 8],\n",
              " 'boss': [0, 3],\n",
              " 'surprised...y': [1, 0],\n",
              " 'figur': [5, 6],\n",
              " 'hozier': [0, 1],\n",
              " \"that'\": [64, 60],\n",
              " 'true,': [3, 5],\n",
              " 'soooooooner': [0, 1],\n",
              " 'beautiful,sweet,talented,amazing…': [1, 0],\n",
              " 'ahh': [2, 7],\n",
              " 'fam': [3, 3],\n",
              " 'drain': [1, 3],\n",
              " ':):': [3, 0],\n",
              " 'hypercholesteloremia': [0, 1],\n",
              " 'gotta': [5, 8],\n",
              " 'timezon': [1, 0],\n",
              " 'parent': [4, 8],\n",
              " 'proud': [10, 7],\n",
              " 'lol,': [2, 1],\n",
              " 'least': [14, 14],\n",
              " 'mayb': [17, 23],\n",
              " 'sometim': [10, 16],\n",
              " 'grades,': [1, 0],\n",
              " 'al...': [1, 0],\n",
              " 'gift': [7, 10],\n",
              " 'calibraska': [0, 1],\n",
              " 'grand': [3, 2],\n",
              " 'actual': [15, 22],\n",
              " 'genuin': [0, 2],\n",
              " 'contend': [0, 1],\n",
              " 'manila_bro': [2, 0],\n",
              " 'chosen': [1, 0],\n",
              " 'twitter!': [2, 1],\n",
              " 'head': [12, 22],\n",
              " 'alway': [63, 53],\n",
              " 'hurt': [7, 37],\n",
              " 'stay': [26, 22],\n",
              " 'lmao': [2, 12],\n",
              " 'let': [82, 38],\n",
              " 'around..at': [1, 0],\n",
              " 'side': [13, 3],\n",
              " 'world': [19, 12],\n",
              " 'older': [0, 5],\n",
              " 'final': [30, 33],\n",
              " 'weekend': [49, 18],\n",
              " 'sound': [23, 19],\n",
              " 'upset': [1, 10],\n",
              " 'real': [19, 21],\n",
              " 'infinit': [2, 9],\n",
              " 'ao': [0, 1],\n",
              " 'stick': [2, 1],\n",
              " 'either.': [1, 1],\n",
              " 'yes!': [6, 0],\n",
              " 'join': [22, 6],\n",
              " 'seriou': [1, 4],\n",
              " 'yun': [1, 1],\n",
              " 'yeahhh': [1, 2],\n",
              " 'room': [4, 9],\n",
              " 'way': [35, 37],\n",
              " 'hot': [18, 12],\n",
              " ':)))': [38, 0],\n",
              " 'havent': [4, 11],\n",
              " 'found': [15, 10],\n",
              " 'handsom': [2, 2],\n",
              " 'jack': [2, 3],\n",
              " 'draw': [6, 2],\n",
              " ':((((': [0, 71],\n",
              " 'day!': [16, 4],\n",
              " 'luv': [6, 2],\n",
              " 'shit': [11, 29],\n",
              " 'appreci': [27, 2],\n",
              " 'share': [37, 10],\n",
              " 'around': [15, 20],\n",
              " 'cut': [2, 14],\n",
              " 'encor': [0, 4],\n",
              " 'baymax': [0, 1],\n",
              " 'wow!!': [2, 0],\n",
              " 'tom': [3, 3],\n",
              " 'french': [3, 2],\n",
              " 'mixer': [0, 1],\n",
              " 'wft..': [0, 1],\n",
              " 'awesom': [26, 4],\n",
              " 'replay!!': [0, 1],\n",
              " 'happened??': [0, 1],\n",
              " 'parti': [11, 13],\n",
              " 'promot': [3, 3],\n",
              " 'gym': [3, 6],\n",
              " 'monday': [9, 6],\n",
              " 'bank': [1, 8],\n",
              " 'hey,': [11, 1],\n",
              " 'invit': [16, 1],\n",
              " 'scope': [5, 0],\n",
              " 'boy': [13, 17],\n",
              " 'order': [16, 13],\n",
              " 'receiv': [8, 5],\n",
              " 'hub': [0, 1],\n",
              " 'nearest': [1, 1],\n",
              " 'deliv': [3, 3],\n",
              " 'nude': [1, 1],\n",
              " 'mum': [2, 14],\n",
              " 'loud': [0, 2],\n",
              " 'sleep': [37, 83],\n",
              " ':)))))))))': [1, 0],\n",
              " 'parasyt': [0, 1],\n",
              " 'alllllll': [0, 1],\n",
              " 'today!': [12, 3],\n",
              " 'era': [0, 1],\n",
              " 't-shirt': [2, 0],\n",
              " 'cool': [33, 4],\n",
              " 'too。。。_:(´ω`」': [0, 1],\n",
              " '∠):_': [0, 2],\n",
              " 'haw': [1, 0],\n",
              " 'phela': [1, 0],\n",
              " 'obvious': [2, 1],\n",
              " 'nathann💕': [0, 1],\n",
              " 'hug': [9, 19],\n",
              " 'tho!': [0, 2],\n",
              " 'you?😊': [0, 1],\n",
              " 'princ': [1, 0],\n",
              " 'charm': [1, 1],\n",
              " 'stage': [2, 15],\n",
              " '\"you': [1, 2],\n",
              " ':-(\"': [0, 2],\n",
              " 'dieididieieiei': [0, 1],\n",
              " 'luck': [25, 5],\n",
              " 'goodby': [4, 13],\n",
              " 'mean': [21, 36],\n",
              " 'lion': [1, 3],\n",
              " 'screw': [1, 3],\n",
              " 'herself.': [0, 1],\n",
              " 'netflix': [0, 5],\n",
              " 'chill': [6, 7],\n",
              " 'own.': [1, 1],\n",
              " 'di': [2, 4],\n",
              " 'ervin': [0, 1],\n",
              " 'ohh': [2, 6],\n",
              " 'tyler': [1, 0],\n",
              " 'hipster': [1, 0],\n",
              " 'glass': [4, 3],\n",
              " 'am.': [2, 1],\n",
              " 'accept': [0, 2],\n",
              " 'offer..but': [0, 1],\n",
              " 'desper': [0, 2],\n",
              " 'marti': [1, 0],\n",
              " 'glad': [42, 2],\n",
              " 'twitter.': [4, 0],\n",
              " 'snapchat': [17, 41],\n",
              " 'amargolonnard': [0, 2],\n",
              " 'done': [45, 21],\n",
              " 'ugh': [0, 20],\n",
              " 'stream': [12, 21],\n",
              " 'duti': [0, 3],\n",
              " 'afternoon,': [1, 0],\n",
              " 'read': [33, 19],\n",
              " 'kahfi': [1, 0],\n",
              " 'finish': [16, 14],\n",
              " \"u'v\": [0, 1],\n",
              " 'gone': [5, 22],\n",
              " 'ohmyg!': [1, 0],\n",
              " 'yaya': [2, 0],\n",
              " 'dub': [2, 0],\n",
              " 'stalk': [1, 3],\n",
              " 'accnt..': [1, 0],\n",
              " 'gondooo': [1, 0],\n",
              " 'moo': [2, 0],\n",
              " 'tologooo': [1, 0],\n",
              " 'alien': [2, 1],\n",
              " 'becom': [9, 5],\n",
              " 'detail': [10, 4],\n",
              " 'here:': [7, 1],\n",
              " 'aww': [8, 18],\n",
              " 'wanna': [29, 94],\n",
              " 'sorka': [0, 1],\n",
              " 'zzz': [1, 0],\n",
              " 'funer': [0, 3],\n",
              " 'phone': [14, 30],\n",
              " 'physiotherapi': [1, 0],\n",
              " 'hashtag': [4, 0],\n",
              " 'custom!': [1, 0],\n",
              " 'sunni': [6, 1],\n",
              " 'bad....': [0, 1],\n",
              " 'monica': [1, 2],\n",
              " 'to,': [2, 1],\n",
              " 'nonexist': [0, 1],\n",
              " 'wowza': [0, 1],\n",
              " '\"good': [1, 0],\n",
              " 'morning,': [2, 1],\n",
              " 'takes.': [1, 0],\n",
              " 'fah': [0, 1],\n",
              " 'taylor': [1, 2],\n",
              " 'crop': [2, 1],\n",
              " ':(((((((((((((((': [0, 1],\n",
              " 'yeah??': [1, 0],\n",
              " 'definit': [23, 2],\n",
              " 'tri': [44, 63],\n",
              " 'tonight': [14, 17],\n",
              " 'then!': [3, 1],\n",
              " 'took': [8, 9],\n",
              " 'advic': [6, 0],\n",
              " 'too!': [19, 9],\n",
              " 'treviso': [1, 0],\n",
              " 'boo': [0, 3],\n",
              " 'count': [7, 5],\n",
              " 'guitar': [0, 1],\n",
              " 'hi!': [30, 1],\n",
              " 'concert?': [17, 0],\n",
              " 'citi': [23, 9],\n",
              " 'countri': [21, 6],\n",
              " \"i'll\": [90, 41],\n",
              " 'it!': [45, 12],\n",
              " 'jonghyun': [1, 1],\n",
              " 'hyung?': [0, 1],\n",
              " 'predict': [0, 2],\n",
              " 'fine,': [1, 0],\n",
              " '...have': [2, 0],\n",
              " 'gorgeou': [8, 0],\n",
              " 'friday,': [2, 0],\n",
              " 'friend!!..;': [1, 0],\n",
              " 'xo..-:))': [1, 0],\n",
              " 'nomin': [0, 1],\n",
              " 'pl': [7, 43],\n",
              " ':(((((': [0, 42],\n",
              " 'oven': [2, 0],\n",
              " 'roast': [2, 0],\n",
              " 'garlic': [1, 0],\n",
              " 'oliv': [1, 0],\n",
              " 'oil,': [1, 0],\n",
              " 'sun': [5, 10],\n",
              " 'dri': [4, 2],\n",
              " 'tomatoes,': [1, 0],\n",
              " 'basil,': [1, 0],\n",
              " 'centuri': [1, 0],\n",
              " 'tuna': [1, 0],\n",
              " 'dudes,': [0, 1],\n",
              " 'calm': [3, 2],\n",
              " 'brace': [0, 5],\n",
              " 'right': [32, 41],\n",
              " 'atchya!': [1, 0],\n",
              " 'sir': [9, 4],\n",
              " 'plu': [4, 4],\n",
              " 'even': [34, 69],\n",
              " 'shock': [1, 2],\n",
              " 'omgggg': [0, 1],\n",
              " 'yall': [2, 4],\n",
              " 'deserv': [10, 8],\n",
              " 'almost': [10, 10],\n",
              " 'whenev': [4, 3],\n",
              " 'spend': [2, 8],\n",
              " 'smoke': [2, 2],\n",
              " 'end': [18, 36],\n",
              " 'fall': [9, 14],\n",
              " 'point': [11, 13],\n",
              " 'close': [13, 19],\n",
              " 'finals!': [0, 1],\n",
              " 'whyyi': [0, 1],\n",
              " 'long': [34, 37],\n",
              " 'cheer': [16, 6],\n",
              " 'annoy': [2, 9],\n",
              " 'evan': [0, 1],\n",
              " 'option': [2, 3],\n",
              " 'opt': [0, 1],\n",
              " 'out?': [1, 4],\n",
              " 'ice': [6, 34],\n",
              " 'cream': [6, 24],\n",
              " \"who'\": [8, 7],\n",
              " 'giveaway': [3, 3],\n",
              " 'muster': [0, 1],\n",
              " 'goods?': [0, 1],\n",
              " 'merch': [0, 4],\n",
              " 'agre': [11, 2],\n",
              " 'heheheh': [2, 0],\n",
              " 'that': [13, 12],\n",
              " 'funni': [13, 6],\n",
              " 'drink': [8, 7],\n",
              " 'savanna': [0, 1],\n",
              " 'straw': [0, 1],\n",
              " 'ignor': [1, 16],\n",
              " 'yester': [0, 1],\n",
              " 'afternoon': [6, 2],\n",
              " 'soon,': [3, 3],\n",
              " 'promis': [4, 4],\n",
              " 'web': [4, 2],\n",
              " 'whatsapp': [4, 2],\n",
              " 'volta': [1, 0],\n",
              " 'funcionar': [1, 0],\n",
              " 'com': [2, 1],\n",
              " 'iphon': [6, 5],\n",
              " 'jailbroken.': [1, 0],\n",
              " 'ye': [40, 32],\n",
              " 'sadli': [0, 11],\n",
              " ':(.': [0, 11],\n",
              " 'later)': [1, 0],\n",
              " 'min': [7, 8],\n",
              " 'leia': [1, 0],\n",
              " 'appear': [3, 2],\n",
              " 'hologram': [1, 0],\n",
              " 'messag': [8, 7],\n",
              " 'obi': [1, 0],\n",
              " 'wan': [3, 1],\n",
              " 'sit': [8, 5],\n",
              " 'luke': [6, 6],\n",
              " 'inter': [1, 1],\n",
              " 'ucl,': [1, 0],\n",
              " 'arsenal...': [1, 0],\n",
              " 'small': [5, 9],\n",
              " 'team,': [3, 0],\n",
              " 'right!': [1, 0],\n",
              " 'when': [0, 2],\n",
              " 'album': [5, 15],\n",
              " 'coming?': [0, 1],\n",
              " 'pass': [12, 12],\n",
              " 'dewsburi': [1, 0],\n",
              " 'railway': [1, 1],\n",
              " '(dew)': [1, 0],\n",
              " 'dewsbury,': [1, 0],\n",
              " 'west': [3, 2],\n",
              " 'yorkshire)': [1, 0],\n",
              " 'chocol': [6, 6],\n",
              " 'consumed.': [0, 1],\n",
              " 'smh': [1, 5],\n",
              " 'werk': [0, 1],\n",
              " 'morn': [71, 24],\n",
              " 'live': [23, 33],\n",
              " 'scotland': [1, 2],\n",
              " 'strang': [4, 0],\n",
              " 'imagin': [4, 1],\n",
              " 'what?-': [1, 0],\n",
              " 'megan': [1, 1],\n",
              " 'foreal': [0, 1],\n",
              " 'wesen': [0, 1],\n",
              " 'uwes': [0, 1],\n",
              " '....': [6, 7],\n",
              " 'shweta': [1, 0],\n",
              " 'tripathi': [1, 0],\n",
              " '-.:-)': [1, 0],\n",
              " '.-..,': [1, 0],\n",
              " 'catch': [10, 9],\n",
              " 'onlin': [6, 16],\n",
              " 'haha!': [6, 3],\n",
              " \"he'\": [12, 23],\n",
              " 'annoying!!': [0, 1],\n",
              " 'kurtas!': [1, 0],\n",
              " 'half': [6, 10],\n",
              " 'number': [10, 5],\n",
              " 'bosen': [0, 1],\n",
              " 'ah!': [2, 0],\n",
              " 'larry!': [1, 0],\n",
              " 'die': [8, 17],\n",
              " 'egg': [2, 2],\n",
              " 'benni': [0, 1],\n",
              " 'anyway': [11, 7],\n",
              " 'kinda': [12, 9],\n",
              " 'gooood': [2, 0],\n",
              " 'followback': [4, 4],\n",
              " 'huhu': [3, 15],\n",
              " 'lol.': [11, 2],\n",
              " 'well.': [5, 1],\n",
              " 'life': [41, 27],\n",
              " 'enn': [1, 0],\n",
              " 'could': [31, 68],\n",
              " 'warmup': [1, 0],\n",
              " '???': [4, 3],\n",
              " 'bath': [3, 1],\n",
              " 'understand': [6, 14],\n",
              " 'badli': [0, 11],\n",
              " 'scare': [1, 16],\n",
              " 'me!': [5, 6],\n",
              " '&gt;:(': [0, 41],\n",
              " 'dum': [2, 0],\n",
              " 'andar': [1, 0],\n",
              " 'ram': [1, 2],\n",
              " 'sampath,': [1, 0],\n",
              " 'sona': [1, 0],\n",
              " 'mohapatra': [1, 0],\n",
              " 'samantha': [1, 0],\n",
              " 'edward': [1, 1],\n",
              " 'mein': [1, 1],\n",
              " 'tulan': [1, 0],\n",
              " 'razi': [1, 0],\n",
              " 'razi,': [1, 0],\n",
              " 'wah!': [1, 0],\n",
              " 'josh': [1, 1],\n",
              " 'al,': [0, 1],\n",
              " 'katie,': [0, 1],\n",
              " 'zaz': [0, 1],\n",
              " 'ami': [3, 2],\n",
              " 'sub': [3, 1],\n",
              " 'plz': [5, 4],\n",
              " 'picture.': [1, 1],\n",
              " 'diari': [2, 1],\n",
              " 'again,': [4, 6],\n",
              " 'right?': [6, 4],\n",
              " 'perfect': [17, 2],\n",
              " 'rehash': [0, 1],\n",
              " 'websit': [4, 4],\n",
              " 'mushroomed.': [0, 1],\n",
              " 'piec': [0, 2],\n",
              " 'except': [2, 5],\n",
              " 'reach': [1, 3],\n",
              " 'anyway.': [1, 3],\n",
              " 'vicki': [0, 1],\n",
              " 'omg': [8, 59],\n",
              " ':-(((((': [0, 4],\n",
              " 'given': [3, 2],\n",
              " 'ga': [1, 1],\n",
              " 'subsidi': [1, 0],\n",
              " 'initi': [4, 1],\n",
              " 'proposed..': [1, 0],\n",
              " 'delight': [5, 1],\n",
              " 'that!!': [1, 0],\n",
              " 'wtf': [1, 10],\n",
              " 'lip': [1, 3],\n",
              " 'virgin': [4, 1],\n",
              " 'your': [2, 8],\n",
              " 'hahah': [0, 6],\n",
              " 'yesterday!!': [1, 0],\n",
              " 'ninasti': [0, 1],\n",
              " 'tsktsk': [0, 1],\n",
              " 'oppa': [6, 3],\n",
              " 'wont': [5, 9],\n",
              " 'dick': [0, 5],\n",
              " 'kawaii': [0, 1],\n",
              " 'manli': [0, 1],\n",
              " 'lmaoo!': [1, 0],\n",
              " 'song': [17, 24],\n",
              " 'shall': [6, 2],\n",
              " 'littl': [31, 20],\n",
              " 'throwback': [3, 1],\n",
              " 'outli': [1, 0],\n",
              " 'islands,': [1, 0],\n",
              " 'cheung': [1, 0],\n",
              " 'chau,': [1, 0],\n",
              " 'mui': [1, 0],\n",
              " 'wo....tot': [1, 0],\n",
              " 'differ': [9, 10],\n",
              " 'xbox': [2, 2],\n",
              " 'comfi': [1, 1],\n",
              " 'bed': [9, 11],\n",
              " 'kitchen': [2, 2],\n",
              " 'clean.': [1, 0],\n",
              " 'total': [9, 11],\n",
              " 'youu': [0, 2],\n",
              " 'sigh': [0, 9],\n",
              " 'cusp': [1, 0],\n",
              " 'test': [6, 7],\n",
              " 'waters,': [1, 0],\n",
              " 'reward': [1, 0],\n",
              " 'sweet': [14, 5],\n",
              " 'potato': [1, 1],\n",
              " 'fri': [3, 7],\n",
              " 'guess': [12, 12],\n",
              " 'ugli': [4, 9],\n",
              " 'asf': [0, 1],\n",
              " ...}"
            ]
          },
          "metadata": {},
          "execution_count": 34
        }
      ]
    },
    {
      "cell_type": "code",
      "source": [
        "import numpy as np\n",
        "def build_vectors(tweets,freq_dict):\n",
        "\n",
        "    vectors=[]\n",
        "    for tweet in tweets:\n",
        "\n",
        "        x=np.zeros(3)\n",
        "        x[0]=1\n",
        "\n",
        "        for word in tweet:\n",
        "            x[1]+=freq_dict.get(word,0)[0]\n",
        "            x[2]+=freq_dict.get(word,0)[1]\n",
        "\n",
        "        vectors.append(x)\n",
        "\n",
        "    return np.array(vectors)\n"
      ],
      "metadata": {
        "id": "tufYRYeqj1z2"
      },
      "execution_count": 35,
      "outputs": []
    },
    {
      "cell_type": "code",
      "source": [
        "X=build_vectors(tweets,freq_dict)"
      ],
      "metadata": {
        "id": "GNjwINAikkYf"
      },
      "execution_count": 36,
      "outputs": []
    },
    {
      "cell_type": "code",
      "source": [
        "X.shape"
      ],
      "metadata": {
        "colab": {
          "base_uri": "https://localhost:8080/"
        },
        "id": "epGumcREkoKp",
        "outputId": "e2b9ae90-e518-4468-8095-94c6f92aba33"
      },
      "execution_count": 38,
      "outputs": [
        {
          "output_type": "execute_result",
          "data": {
            "text/plain": [
              "(10000, 3)"
            ]
          },
          "metadata": {},
          "execution_count": 38
        }
      ]
    },
    {
      "cell_type": "code",
      "source": [
        "X"
      ],
      "metadata": {
        "colab": {
          "base_uri": "https://localhost:8080/"
        },
        "id": "tvieIOB8kma-",
        "outputId": "1e9eb112-4066-4e6e-f8d4-64aff07dc418"
      },
      "execution_count": 37,
      "outputs": [
        {
          "output_type": "execute_result",
          "data": {
            "text/plain": [
              "array([[  1., 159.,  61.],\n",
              "       [  1.,   1.,   5.],\n",
              "       [  1., 249., 366.],\n",
              "       ...,\n",
              "       [  1.,   2.,   5.],\n",
              "       [  1., 732., 149.],\n",
              "       [  1., 105., 510.]])"
            ]
          },
          "metadata": {},
          "execution_count": 37
        }
      ]
    },
    {
      "cell_type": "code",
      "source": [
        "y=np.array(labels)"
      ],
      "metadata": {
        "id": "UrQi4jyHknJK"
      },
      "execution_count": 40,
      "outputs": []
    },
    {
      "cell_type": "code",
      "source": [
        "X"
      ],
      "metadata": {
        "colab": {
          "base_uri": "https://localhost:8080/"
        },
        "id": "XDZUFx7fku1-",
        "outputId": "57ed1002-c043-4124-9124-f73cf1edc818"
      },
      "execution_count": 41,
      "outputs": [
        {
          "output_type": "execute_result",
          "data": {
            "text/plain": [
              "array([[  1., 159.,  61.],\n",
              "       [  1.,   1.,   5.],\n",
              "       [  1., 249., 366.],\n",
              "       ...,\n",
              "       [  1.,   2.,   5.],\n",
              "       [  1., 732., 149.],\n",
              "       [  1., 105., 510.]])"
            ]
          },
          "metadata": {},
          "execution_count": 41
        }
      ]
    },
    {
      "cell_type": "code",
      "source": [
        "y"
      ],
      "metadata": {
        "colab": {
          "base_uri": "https://localhost:8080/"
        },
        "id": "mR228cC6kurw",
        "outputId": "3789253c-d5bd-4fb1-c0f8-04c034586a13"
      },
      "execution_count": 42,
      "outputs": [
        {
          "output_type": "execute_result",
          "data": {
            "text/plain": [
              "array([1, 0, 1, ..., 0, 1, 0])"
            ]
          },
          "metadata": {},
          "execution_count": 42
        }
      ]
    },
    {
      "cell_type": "code",
      "source": [
        "from sklearn.model_selection import train_test_split\n",
        "train_X,test_X,train_y,test_y=train_test_split(X,y,test_size=0.2,shuffle=True)  "
      ],
      "metadata": {
        "id": "UY-xD8j5k2Ar"
      },
      "execution_count": null,
      "outputs": []
    }
  ]
}